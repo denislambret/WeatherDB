{
 "cells": [
  {
   "cell_type": "code",
   "execution_count": 3,
   "source": [
    "from configparser import ConfigParser\r\n",
    "\r\n",
    "#Get the configparser object\r\n",
    "config_object = ConfigParser()\r\n",
    "\r\n",
    "#Assume we need 2 sections in the config file, let's call them USERINFO and SERVERCONFIG\r\n",
    "config_object[\"INFO\"] = {\r\n",
    "    'host': '192.168.33.100',\r\n",
    "    'user':'dev',\r\n",
    "    'password':'1234qwerASD!',\r\n",
    "    'apiKey':'7fe4b94a6895956f0cfe6c083016f804',\r\n",
    "    'retryDelay': 30,\r\n",
    "    'queryDelay': 60 * 60,\r\n",
    "    'logfile': 'D:/dev/60_Python/WeatherDB/logs/GetWeather.log'\r\n",
    "}\r\n",
    "\r\n",
    "#Write the above sections to config.ini file\r\n",
    "with open('./GetWeather.ini', 'w') as conf:\r\n",
    "    config_object.write(conf)"
   ],
   "outputs": [],
   "metadata": {}
  }
 ],
 "metadata": {
  "orig_nbformat": 4,
  "language_info": {
   "name": "python",
   "version": "3.9.5",
   "mimetype": "text/x-python",
   "codemirror_mode": {
    "name": "ipython",
    "version": 3
   },
   "pygments_lexer": "ipython3",
   "nbconvert_exporter": "python",
   "file_extension": ".py"
  },
  "kernelspec": {
   "name": "python3",
   "display_name": "Python 3.9.5 64-bit"
  },
  "interpreter": {
   "hash": "4ce0e62306dd6a5716965d4519ada776f947e6dfc145b604b11307c10277ef29"
  }
 },
 "nbformat": 4,
 "nbformat_minor": 2
}