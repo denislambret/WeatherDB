{
 "cells": [
  {
   "cell_type": "code",
   "execution_count": 1,
   "metadata": {},
   "outputs": [],
   "source": [
    "# Libraries Imports\n",
    "#-----------------------------------------------------------------------------------------------------\n",
    "from configparser import ConfigParser\n",
    "from sqlalchemy import create_engine\n",
    "from datetime import datetime\n",
    "import pandas as pd\n",
    "import matplotlib.pyplot as plt\n",
    "import numpy as np\n",
    "from datetime import date, timedelta\n",
    "import plotly.express as px\n",
    "import plotly.graph_objects as go\n",
    "\n",
    "# Load connexion configuration file\n",
    "#-----------------------------------------------------------------------------------------------------\n",
    "config_filename = \"./conf/GetWeather.ini\"\n",
    "\n",
    "# Read config.ini file\n",
    "config_object = ConfigParser()\n",
    "config_object.read(config_filename)\n",
    "if  not config_object:\n",
    "    print(\"Error while loading configuration !!!\")\n",
    "\n",
    "# Log initialization\n",
    "cfg = config_object['INFO']\n",
    "# Establish connection with DB (using sqlalchemy)\n",
    "#-----------------------------------------------------------------------------------------------------\n",
    "db_connection_str = \"mysql+pymysql://{}:{}@{}/WeatherDB\".format(cfg['user'],cfg['password'],cfg['host'])\n",
    "db_connection = create_engine(db_connection_str)"
   ]
  },
  {
   "cell_type": "code",
   "execution_count": null,
   "metadata": {},
   "outputs": [],
   "source": [
    "# Count sorted number of records per locations\n",
    "#-----------------------------------------------------------------------------------------------------\n",
    "raw_data = pd.read_sql(\n",
    "\"\"\"SELECT Locations.name as name, COUNT(*) as nbRecords\n",
    "FROM RawRecords\n",
    "INNER JOIN Locations ON RawRecords.id_location = Locations.id\n",
    "GROUP BY id_location\n",
    "ORDER BY nbRecords DESC;\"\"\", con=db_connection)\n",
    "pdata = pd.DataFrame(raw_data)\n",
    "\n",
    "# Display header just to be sure we have something\n",
    "pdata.head(10)\n"
   ]
  },
  {
   "cell_type": "code",
   "execution_count": null,
   "metadata": {},
   "outputs": [],
   "source": [
    "# Get average values on all records per locations\n",
    "#-----------------------------------------------------------------------------------------------------\n",
    "raw_data = pd.read_sql(\n",
    "\"\"\"SELECT \n",
    "\t    id_location, \n",
    "        Locations.name,\n",
    "\t    ROUND(AVG(pressure),2) AS avgPress,\n",
    "\t    ROUND(AVG(temp - 271.15),2) AS avgTemp,\n",
    "\t    ROUND(AVG(humidity),2) AS avgHumidity\n",
    "    FROM Records\n",
    "    INNER JOIN Locations on id_location = Locations.id\n",
    "    GROUP BY id_location;\"\"\", con=db_connection)\n",
    "pdata = pd.DataFrame(raw_data)\n",
    "\n",
    "# Display header just to be sure we have something\n",
    "pdata.head(10)\n"
   ]
  },
  {
   "cell_type": "code",
   "execution_count": null,
   "metadata": {},
   "outputs": [],
   "source": [
    "# Get minimum values per locations\n",
    "#-----------------------------------------------------------------------------------------------------\n",
    "raw_data = pd.read_sql(\n",
    "\"\"\" SELECT \n",
    "\t    id_location, \n",
    "        Locations.name,\n",
    "\t    ROUND(MIN(pressure),2) AS MINPress,\n",
    "\t    ROUND(MIN(temp - 271.15),2) AS MINTemp,\n",
    "\t    ROUND(MIN(humidity),2) AS MINHumidity\n",
    "    FROM Records\n",
    "    Inner join Locations on id_location = Locations.id\n",
    "    group by id_location;;\"\"\", con=db_connection)\n",
    "pdata = pd.DataFrame(raw_data)\n",
    "\n",
    "# Display header just to be sure we have something\n",
    "pdata.head(10)"
   ]
  },
  {
   "cell_type": "code",
   "execution_count": null,
   "metadata": {},
   "outputs": [],
   "source": [
    "# Hourly stats for a given day at a given location\n",
    "#-----------------------------------------------------------------------------------------------------\n",
    "my_date='2021-08-10'\n",
    "loc = 6\n",
    "raw_data = pd.read_sql(\"\"\" call Get_Hourly_Stats('{}',{});\"\"\".format(my_date, loc), con=db_connection)\n",
    "pdata = pd.DataFrame(raw_data)\n",
    "\n",
    "# Display header just to be sure we have something\n",
    "pdata.head(30)"
   ]
  },
  {
   "cell_type": "code",
   "execution_count": null,
   "metadata": {},
   "outputs": [],
   "source": [
    "# Get hourly stats for a given range of day(s) and a single location\n",
    "#-----------------------------------------------------------------------------------------------------\n",
    "def daterange(start_date, end_date):\n",
    "    for n in range(int((end_date - start_date).days)):\n",
    "        yield start_date + timedelta(n)\n",
    "\n",
    "# work variables for aggregation\n",
    "start_date = date(2021,1,1)\n",
    "end_date = date(2022,1,1)\n",
    "loc = 6\n",
    "pdata = pd.DataFrame([])\n",
    "flagFirstRec = True\n",
    "iter = 0\n",
    "\n",
    "for my_date in daterange(start_date, end_date):\n",
    "    iter += 1\n",
    "    query = \"call Get_Hourly_Stats('{}',{});\".format(my_date, loc)\n",
    "    raw_data = pd.read_sql(query, con=db_connection)\n",
    "   \n",
    "    if flagFirstRec:\n",
    "        pdata = pd.DataFrame(raw_data)\n",
    "        flagFirstRec = False\n",
    "    else:\n",
    "        pdata = pdata.append(pd.DataFrame(raw_data))\n",
    "    \n",
    "print(\"{} aggregate(s) created for a period of {} day(s).\".format(pdata.shape,iter))"
   ]
  },
  {
   "cell_type": "code",
   "execution_count": null,
   "metadata": {},
   "outputs": [],
   "source": [
    "#pdata.insert(0, 'idx', range(0,len(pdata)))\n",
    "pdata.reset_index(drop=True)"
   ]
  },
  {
   "cell_type": "code",
   "execution_count": null,
   "metadata": {},
   "outputs": [],
   "source": [
    "my_date = '2021-08-23'\n",
    "loc = 6\n",
    "query = \"call Get_Monthly_Stats('{}',{});\".format(my_date, loc)\n",
    "\n",
    "pdata = pd.read_sql(query, con=db_connection)\n",
    "pdata.rename(columns = {'date_timestamp':'timestamp'}, inplace = True)\n",
    "pdata.insert(0,'id',0)\n",
    "pdata.head(5)\n",
    "\n"
   ]
  },
  {
   "cell_type": "code",
   "execution_count": 91,
   "metadata": {},
   "outputs": [],
   "source": [
    "pdata.to_sql('RecordsByHour', con=db_connection, if_exists='append',\n",
    "           index=False)"
   ]
  },
  {
   "cell_type": "code",
   "execution_count": null,
   "metadata": {},
   "outputs": [],
   "source": [
    "# TimeZone tools to get if measures are UTC/CET\n",
    "from pytz import all_timezones\n",
    "for timezone in all_timezones:\n",
    "    print(timezone)"
   ]
  },
  {
   "cell_type": "code",
   "execution_count": 2,
   "metadata": {},
   "outputs": [
    {
     "data": {
      "text/html": [
       "<div>\n",
       "<style scoped>\n",
       "    .dataframe tbody tr th:only-of-type {\n",
       "        vertical-align: middle;\n",
       "    }\n",
       "\n",
       "    .dataframe tbody tr th {\n",
       "        vertical-align: top;\n",
       "    }\n",
       "\n",
       "    .dataframe thead th {\n",
       "        text-align: right;\n",
       "    }\n",
       "</style>\n",
       "<table border=\"1\" class=\"dataframe\">\n",
       "  <thead>\n",
       "    <tr style=\"text-align: right;\">\n",
       "      <th></th>\n",
       "      <th>name</th>\n",
       "      <th>date_timestamp</th>\n",
       "      <th>hour</th>\n",
       "      <th>temp</th>\n",
       "      <th>pressure</th>\n",
       "      <th>humidity</th>\n",
       "      <th>clouds_cover</th>\n",
       "      <th>rain_1h</th>\n",
       "      <th>snow_1h</th>\n",
       "      <th>wind_dir</th>\n",
       "      <th>wind_speed</th>\n",
       "    </tr>\n",
       "  </thead>\n",
       "  <tbody>\n",
       "    <tr>\n",
       "      <th>0</th>\n",
       "      <td>Hérémence</td>\n",
       "      <td>2021-10-06 00:00:03</td>\n",
       "      <td>0</td>\n",
       "      <td>6.939996</td>\n",
       "      <td>1016.0</td>\n",
       "      <td>83.0</td>\n",
       "      <td>20</td>\n",
       "      <td>0.0</td>\n",
       "      <td>0.0</td>\n",
       "      <td>260</td>\n",
       "      <td>5.66</td>\n",
       "    </tr>\n",
       "    <tr>\n",
       "      <th>1</th>\n",
       "      <td>Hérémence</td>\n",
       "      <td>2021-10-06 01:00:02</td>\n",
       "      <td>1</td>\n",
       "      <td>6.700006</td>\n",
       "      <td>1017.0</td>\n",
       "      <td>73.0</td>\n",
       "      <td>0</td>\n",
       "      <td>0.0</td>\n",
       "      <td>0.0</td>\n",
       "      <td>280</td>\n",
       "      <td>3.60</td>\n",
       "    </tr>\n",
       "    <tr>\n",
       "      <th>2</th>\n",
       "      <td>Hérémence</td>\n",
       "      <td>2021-10-06 02:00:02</td>\n",
       "      <td>2</td>\n",
       "      <td>6.219995</td>\n",
       "      <td>1018.0</td>\n",
       "      <td>74.0</td>\n",
       "      <td>40</td>\n",
       "      <td>0.0</td>\n",
       "      <td>0.0</td>\n",
       "      <td>0</td>\n",
       "      <td>1.03</td>\n",
       "    </tr>\n",
       "    <tr>\n",
       "      <th>3</th>\n",
       "      <td>Hérémence</td>\n",
       "      <td>2021-10-06 03:00:01</td>\n",
       "      <td>3</td>\n",
       "      <td>6.209985</td>\n",
       "      <td>1018.0</td>\n",
       "      <td>69.0</td>\n",
       "      <td>75</td>\n",
       "      <td>0.0</td>\n",
       "      <td>0.0</td>\n",
       "      <td>0</td>\n",
       "      <td>1.03</td>\n",
       "    </tr>\n",
       "    <tr>\n",
       "      <th>4</th>\n",
       "      <td>Hérémence</td>\n",
       "      <td>2021-10-06 04:00:02</td>\n",
       "      <td>4</td>\n",
       "      <td>5.610010</td>\n",
       "      <td>1019.0</td>\n",
       "      <td>73.0</td>\n",
       "      <td>100</td>\n",
       "      <td>0.0</td>\n",
       "      <td>0.0</td>\n",
       "      <td>0</td>\n",
       "      <td>0.51</td>\n",
       "    </tr>\n",
       "    <tr>\n",
       "      <th>5</th>\n",
       "      <td>Hérémence</td>\n",
       "      <td>2021-10-06 05:00:02</td>\n",
       "      <td>5</td>\n",
       "      <td>5.249994</td>\n",
       "      <td>1018.0</td>\n",
       "      <td>77.0</td>\n",
       "      <td>100</td>\n",
       "      <td>0.0</td>\n",
       "      <td>0.0</td>\n",
       "      <td>110</td>\n",
       "      <td>2.06</td>\n",
       "    </tr>\n",
       "    <tr>\n",
       "      <th>6</th>\n",
       "      <td>Hérémence</td>\n",
       "      <td>2021-10-06 06:00:02</td>\n",
       "      <td>6</td>\n",
       "      <td>4.779993</td>\n",
       "      <td>1019.0</td>\n",
       "      <td>84.0</td>\n",
       "      <td>75</td>\n",
       "      <td>0.0</td>\n",
       "      <td>0.0</td>\n",
       "      <td>0</td>\n",
       "      <td>0.51</td>\n",
       "    </tr>\n",
       "    <tr>\n",
       "      <th>7</th>\n",
       "      <td>Hérémence</td>\n",
       "      <td>2021-10-06 07:00:06</td>\n",
       "      <td>7</td>\n",
       "      <td>4.760004</td>\n",
       "      <td>1019.0</td>\n",
       "      <td>82.0</td>\n",
       "      <td>75</td>\n",
       "      <td>0.0</td>\n",
       "      <td>0.0</td>\n",
       "      <td>0</td>\n",
       "      <td>0.51</td>\n",
       "    </tr>\n",
       "    <tr>\n",
       "      <th>8</th>\n",
       "      <td>Hérémence</td>\n",
       "      <td>2021-10-06 08:00:02</td>\n",
       "      <td>8</td>\n",
       "      <td>4.899988</td>\n",
       "      <td>1020.0</td>\n",
       "      <td>79.0</td>\n",
       "      <td>75</td>\n",
       "      <td>0.0</td>\n",
       "      <td>0.0</td>\n",
       "      <td>0</td>\n",
       "      <td>0.51</td>\n",
       "    </tr>\n",
       "  </tbody>\n",
       "</table>\n",
       "</div>"
      ],
      "text/plain": [
       "        name      date_timestamp  hour      temp  pressure  humidity  \\\n",
       "0  Hérémence 2021-10-06 00:00:03     0  6.939996    1016.0      83.0   \n",
       "1  Hérémence 2021-10-06 01:00:02     1  6.700006    1017.0      73.0   \n",
       "2  Hérémence 2021-10-06 02:00:02     2  6.219995    1018.0      74.0   \n",
       "3  Hérémence 2021-10-06 03:00:01     3  6.209985    1018.0      69.0   \n",
       "4  Hérémence 2021-10-06 04:00:02     4  5.610010    1019.0      73.0   \n",
       "5  Hérémence 2021-10-06 05:00:02     5  5.249994    1018.0      77.0   \n",
       "6  Hérémence 2021-10-06 06:00:02     6  4.779993    1019.0      84.0   \n",
       "7  Hérémence 2021-10-06 07:00:06     7  4.760004    1019.0      82.0   \n",
       "8  Hérémence 2021-10-06 08:00:02     8  4.899988    1020.0      79.0   \n",
       "\n",
       "   clouds_cover  rain_1h  snow_1h  wind_dir  wind_speed  \n",
       "0            20      0.0      0.0       260        5.66  \n",
       "1             0      0.0      0.0       280        3.60  \n",
       "2            40      0.0      0.0         0        1.03  \n",
       "3            75      0.0      0.0         0        1.03  \n",
       "4           100      0.0      0.0         0        0.51  \n",
       "5           100      0.0      0.0       110        2.06  \n",
       "6            75      0.0      0.0         0        0.51  \n",
       "7            75      0.0      0.0         0        0.51  \n",
       "8            75      0.0      0.0         0        0.51  "
      ]
     },
     "execution_count": 2,
     "metadata": {},
     "output_type": "execute_result"
    }
   ],
   "source": [
    "# Daily stats\n",
    "#-----------------------------------------------------------------------------------------------------\n",
    "queryDate = datetime.today().strftime('%Y-%m-%d')\n",
    "#queryDate = '2021-09-03'\n",
    "location = 6\n",
    "raw_data = pd.read_sql(\n",
    "\"\"\"\n",
    "SELECT Locations.name, date_timestamp, hour(date_timestamp) as hour, (temp-273.15) as temp, pressure,humidity, clouds_cover, rain_1h, snow_1h,wind_dir,wind_speed \n",
    "FROM RawRecords\n",
    "INNER JOIN Locations ON RawRecords.id_location = Locations.id\n",
    "WHERE RawRecords.date_timestamp >= '{}' AND  RawRecords.id_location = {}\n",
    "GROUP BY HOUR(date_timestamp)\n",
    "ORDER BY HOUR(date_timestamp)\n",
    "\"\"\".format(queryDate, location), con=db_connection)\n",
    "pdata = pd.DataFrame(raw_data)\n",
    "pdata.head(100)\n"
   ]
  },
  {
   "cell_type": "code",
   "execution_count": null,
   "metadata": {},
   "outputs": [],
   "source": [
    "# Set plot size\n",
    "plt.figure(figsize=(30, 16))\n",
    "\n",
    "# draw temp curve with pyplot\n",
    "plt.subplot(2, 2, 1)\n",
    "xpoints = raw_data['hour'].tolist()\n",
    "ypoints = raw_data['temp'].tolist()\n",
    "plt.title(\"Temperature\")\n",
    "plt.xlabel(\"hours of the day\")\n",
    "plt.ylabel(\"Temperature\")\n",
    "plt.grid(axis = 'x',linestyle='--',linewidth=0.5)\n",
    "display(plt.plot(xpoints, ypoints, 'o-r', linewidth=1.5))\n",
    "\n",
    "# draw cloud cover percentage\n",
    "plt.subplot(2, 2, 2)\n",
    "ypoints = raw_data['clouds_cover'].tolist()\n",
    "plt.title(\"Clouds\")\n",
    "plt.xlabel(\"hours of the day\")\n",
    "plt.ylabel(\"Clouds coverage\")\n",
    "plt.grid(axis = 'x',linestyle='--',linewidth=0.5)\n",
    "#plt.plot(xpoints, ypoints, 'o-g', linewidth=1.5)\n",
    "plt.bar(xpoints,ypoints)\n",
    "\n",
    "# draw humidity cover percentage\n",
    "plt.subplot(2, 2, 3)\n",
    "ypoints = raw_data['humidity'].tolist()\n",
    "plt.title(\"Humidity\")\n",
    "plt.xlabel(\"hours of the day\")\n",
    "plt.ylabel(\"relative Humidity\")\n",
    "plt.grid(axis = 'x',linestyle='--',linewidth=0.5)\n",
    "plt.plot(xpoints, ypoints, 'o-b', linewidth=1.5)\n",
    "\n",
    "# draw rain barchart\n",
    "plt.subplot(2, 2, 4)\n",
    "ypoints = raw_data['rain_1h'].tolist()\n",
    "plt.title(\"Rain\")\n",
    "plt.xlabel(\"hours of the day\")\n",
    "plt.ylabel(\"rain\")\n",
    "plt.grid(axis = 'x',linestyle='--',linewidth=0.5)\n",
    "plt.bar(xpoints,ypoints)\n",
    "plt.show()\n",
    "# Super title\n",
    "plt.suptitle(\"Weather today\")\n",
    "\n",
    "# Show graphs\n",
    "plt.show()\n",
    "\n"
   ]
  },
  {
   "cell_type": "code",
   "execution_count": null,
   "metadata": {},
   "outputs": [],
   "source": [
    "import plotly.express as px\n",
    "df = px.data.wind()\n",
    "fig = px.bar_polar(df, r=\"frequency\", theta=\"direction\",\n",
    "                   color=\"strength\", template=\"plotly_dark\",\n",
    "                   color_discrete_sequence= px.colors.sequential.Plasma_r)\n",
    "fig.show()\n"
   ]
  },
  {
   "cell_type": "code",
   "execution_count": 47,
   "metadata": {},
   "outputs": [],
   "source": [
    "# df.tail(20)\n",
    "# df[df['direction'] == 'N']\n",
    "nt = np.NaN\n",
    "nt = pd.DataFrame(raw_data['wind_speed'])\n",
    "nt.insert(1,'wind_dir',raw_data['wind_dir'],allow_duplicates=True)\n",
    "nt = nt.groupby('wind_dir')\n",
    "s = nt['wind_dir'].agg([np.size])"
   ]
  },
  {
   "cell_type": "code",
   "execution_count": null,
   "metadata": {},
   "outputs": [],
   "source": []
  },
  {
   "cell_type": "code",
   "execution_count": 48,
   "metadata": {},
   "outputs": [
    {
     "name": "stdout",
     "output_type": "stream",
     "text": [
      "50\n",
      "70\n",
      "80\n",
      "90\n",
      "100\n",
      "112\n",
      "126\n"
     ]
    }
   ],
   "source": [
    "for wd in s.index:\n",
    "    print(\"{}\".format(wd))\n",
    "\n"
   ]
  },
  {
   "cell_type": "code",
   "execution_count": 49,
   "metadata": {},
   "outputs": [
    {
     "name": "stdout",
     "output_type": "stream",
     "text": [
      "1\n",
      "3\n",
      "4\n",
      "3\n",
      "1\n",
      "1\n",
      "1\n"
     ]
    }
   ],
   "source": [
    "list = s['size']\n",
    "\n",
    "for iter in list:\n",
    "    print(\"{}\".format(iter))\n"
   ]
  },
  {
   "cell_type": "code",
   "execution_count": 5,
   "metadata": {},
   "outputs": [
    {
     "data": {
      "image/png": "[encoded data removed]",
      "text/plain": [
       "<Figure size 1476x684 with 1 Axes>"
      ]
     },
     "metadata": {},
     "output_type": "display_data"
    },
    {
     "name": "stdout",
     "output_type": "stream",
     "text": [
      "temperature min : 4.760003662109398 C°  max : 6.939996337890648 C° delta : 2.17999267578125 C°\n",
      "humidity min    : 69.0 %   max : 84.0 %  delta : 15.0 %\n"
     ]
    }
   ],
   "source": [
    "import seaborn as sb\n",
    "import matplotlib.pyplot as plt\n",
    "plt.rcParams[\"figure.figsize\"] = [20.50, 9.50]\n",
    "plt.rcParams[\"figure.autolayout\"] = True\n",
    "\n",
    "sb.set()\n",
    "sb.set_palette(\"PuBuGn_d\")\n",
    "\n",
    "fig, ax = plt.subplots()\n",
    "ax.plot(raw_data['date_timestamp'], raw_data['temp'], label=\"temp\", color='orange')\n",
    "ax.plot(raw_data['date_timestamp'], raw_data['humidity'], label=\"humidity\", color='blue')\n",
    "ax.fill_between(raw_data['date_timestamp'], raw_data['humidity'], color='blue', alpha=0.3)\n",
    "ax.fill_between(raw_data['date_timestamp'], raw_data['temp'], color='orange', alpha=0.3)\n",
    "plt.legend()\n",
    "plt.show()\n",
    "\n",
    "print(\"temperature min : {} C°  max : {} C° delta : {} C°\".format(raw_data['temp'].min(),raw_data['temp'].max(),raw_data['temp'].max() - raw_data['temp'].min()))\n",
    "print(\"humidity min    : {} %   max : {} %  delta : {} %\".format(raw_data['humidity'].min(),raw_data['humidity'].max(),raw_data['humidity'].max() - raw_data['humidity'].min()))"
   ]
  },
  {
   "cell_type": "code",
   "execution_count": 4,
   "metadata": {},
   "outputs": [
    {
     "name": "stderr",
     "output_type": "stream",
     "text": [
      "No handles with labels found to put in legend.\n"
     ]
    },
    {
     "data": {
      "text/plain": [
       "<Figure size 2304x1152 with 0 Axes>"
      ]
     },
     "metadata": {},
     "output_type": "display_data"
    },
    {
     "data": {
      "image/png": "[encoded data removed]",
      "text/plain": [
       "<Figure size 1476x684 with 1 Axes>"
      ]
     },
     "metadata": {},
     "output_type": "display_data"
    }
   ],
   "source": [
    "plt.figure(figsize=(32,16))\n",
    "sb.set()\n",
    "sb.set_palette(\"PuBuGn_d\")\n",
    "\n",
    "fig, ax = plt.subplots()\n",
    "\n",
    "dt = (raw_data['temp'] - raw_data['temp'].min()) / (raw_data['temp'].max() - raw_data['temp'].min())\n",
    "dh = (raw_data['humidity'] - raw_data['humidity'].min()) / (raw_data['humidity'].max() - raw_data['humidity'].min())\n",
    "ax.fill_between(raw_data['date_timestamp'], dh, color='blue', alpha=0.3)\n",
    "ax.fill_between(raw_data['date_timestamp'], dt, color='orange', alpha=0.3)\n",
    "plt.legend()\n",
    "plt.show()"
   ]
  },
  {
   "cell_type": "code",
   "execution_count": 22,
   "metadata": {},
   "outputs": [
    {
     "data": {
      "text/plain": [
       "<AxesSubplot:>"
      ]
     },
     "execution_count": 22,
     "metadata": {},
     "output_type": "execute_result"
    },
    {
     "data": {
      "image/png": "[encoded data removed]",
      "text/plain": [
       "<Figure size 432x288 with 1 Axes>"
      ]
     },
     "metadata": {},
     "output_type": "display_data"
    }
   ],
   "source": [
    "sb.barplot(data=raw_data['rain_1h'],label='rain')"
   ]
  }
 ],
 "metadata": {
  "interpreter": {
   "hash": "4ce0e62306dd6a5716965d4519ada776f947e6dfc145b604b11307c10277ef29"
  },
  "kernelspec": {
   "display_name": "Python 3.9.5 64-bit",
   "name": "python3"
  },
  "language_info": {
   "codemirror_mode": {
    "name": "ipython",
    "version": 3
   },
   "file_extension": ".py",
   "mimetype": "text/x-python",
   "name": "python",
   "nbconvert_exporter": "python",
   "pygments_lexer": "ipython3",
   "version": "3.9.5"
  },
  "orig_nbformat": 4
 },
 "nbformat": 4,
 "nbformat_minor": 2
}
