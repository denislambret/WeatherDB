{
 "cells": [
  {
   "cell_type": "code",
   "execution_count": null,
   "metadata": {},
   "outputs": [],
   "source": [
    "#-----------------------------------------------------------------------------------------------------\n",
    "# Connection to pyVMMonitor for profiling\n",
    "#-----------------------------------------------------------------------------------------------------\n",
    "import sys\n",
    "sys.path.append('D:\\\\Program Files\\\\Brainwy\\\\PyVmMonitor 1.1.2\\\\public_api')\n",
    "import pyvmmonitor\n",
    "pyvmmonitor.connect()"
   ]
  },
  {
   "cell_type": "code",
   "execution_count": 9,
   "metadata": {},
   "outputs": [],
   "source": [
    "# Libraries Imports\n",
    "#-----------------------------------------------------------------------------------------------------\n",
    "from configparser import ConfigParser\n",
    "from sqlalchemy import create_engine\n",
    "from datetime import datetime\n",
    "import pandas as pd\n",
    "import numpy as np\n",
    "from datetime import date, timedelta\n",
    "\n",
    "# Load connexion configuration file\n",
    "#-----------------------------------------------------------------------------------------------------\n",
    "config_filename = \"./conf/GetWeather.ini\"\n",
    "\n",
    "# Read config.ini file\n",
    "config_object = ConfigParser()\n",
    "config_object.read(config_filename)\n",
    "if  not config_object:\n",
    "    print(\"Error while loading configuration !!!\")\n",
    "\n",
    "# Log initialization\n",
    "cfg = config_object['INFO']\n",
    "# Establish connection with DB (using sqlalchemy)\n",
    "#-----------------------------------------------------------------------------------------------------\n",
    "db_connection_str = \"mysql+pymysql://{}:{}@{}/WeatherDB\".format(cfg['user'],cfg['password'],cfg['host'])\n",
    "db_connection = create_engine(db_connection_str)"
   ]
  },
  {
   "cell_type": "code",
   "execution_count": null,
   "metadata": {},
   "outputs": [],
   "source": [
    "#----------------------------------------------------------------------------------\n",
    "# Table : RawRecords\n",
    "# Query : List records created by locations and creation dates\n",
    "#----------------------------------------------------------------------------------\n",
    "raw_data = pd.read_sql(\n",
    "\"\"\"SELECT date(date_timestamp) AS dte, Locations.name, count(date_timestamp) AS nb_records\n",
    "    FROM RawRecords\n",
    "    INNER JOIN Locations ON Locations.id = RawRecords.id_location\n",
    "    WHERE id_location IN (SELECT id FROM Locations)\n",
    "    GROUP BY id_location, date(date_timestamp) \n",
    "    ORDER BY date(date_timestamp);\"\"\",\n",
    "    con=db_connection\n",
    ")\n",
    "pdata = pd.DataFrame(raw_data)\n",
    "pdata.head(100)"
   ]
  },
  {
   "cell_type": "code",
   "execution_count": null,
   "metadata": {},
   "outputs": [],
   "source": [
    "#----------------------------------------------------------------------------------\n",
    "# Table : RawRecords\n",
    "# Query : List records created by locations and creation dates grouped \n",
    "#         by locations + month\n",
    "#----------------------------------------------------------------------------------\n",
    "raw_data = pd.read_sql(\n",
    "\"\"\" SELECT date(date_timestamp) AS dte, Locations.name AS LName, count(date_timestamp) AS nb_records\n",
    "    FROM RawRecords\n",
    "    INNER JOIN Locations ON Locations.id = RawRecords.id_location\n",
    "    WHERE MONTH(DATE(date_timestamp)) in (SELECT MONTH(DATE(date_timestamp)) FROM RawRecords GROUP BY MONTH(DATE(date_timestamp)))\n",
    "    AND ( id_location IN (SELECT id FROM Locations) ) \n",
    "    GROUP BY id_location, month(date_timestamp) \n",
    "    ORDER BY id_location, month(date_timestamp);\"\"\",\n",
    "    con=db_connection  \n",
    ")\n",
    "pdata = pd.DataFrame(raw_data)\n",
    "pdata.head(100)"
   ]
  },
  {
   "cell_type": "code",
   "execution_count": null,
   "metadata": {},
   "outputs": [],
   "source": [
    "#----------------------------------------------------------------------------------\n",
    "# Table : RawRecords\n",
    "# Query : Count all records\n",
    "#----------------------------------------------------------------------------------\n",
    "raw_data = pd.read_sql(\n",
    "\"\"\" SELECT COUNT(*) AS totalRecs \n",
    "    FROM RawRecords;\"\"\",\n",
    "    con=db_connection\n",
    ")\n",
    "pdata = pd.DataFrame(raw_data)"
   ]
  },
  {
   "cell_type": "code",
   "execution_count": null,
   "metadata": {},
   "outputs": [],
   "source": [
    "#----------------------------------------------------------------------------------\n",
    "# Table : RawRecords\n",
    "# Query : Count sorted number of records per locations\n",
    "#----------------------------------------------------------------------------------\n",
    "raw_data = pd.read_sql(\n",
    "    \"\"\" SELECT Locations.name as name, COUNT(*) as nbRecords\n",
    "        FROM RawRecords\n",
    "        INNER JOIN Locations ON RawRecords.id_location = Locations.id\n",
    "        GROUP BY id_location\n",
    "        ORDER BY nbRecords DESC;\"\"\", \n",
    "        con=db_connection\n",
    ")\n",
    "pdata = pd.DataFrame(raw_data)\n",
    "pdata.head(10)"
   ]
  },
  {
   "cell_type": "code",
   "execution_count": null,
   "metadata": {},
   "outputs": [],
   "source": [
    "#----------------------------------------------------------------------------------\n",
    "# Table : RawRecords\n",
    "# List records created by locations and creation dates\n",
    "#----------------------------------------------------------------------------------\n",
    "raw_data = pd.read_sql(\n",
    "\"\"\" SELECT date(date_timestamp) AS dte, Locations.name, count(date_timestamp) AS nb_records\n",
    "    FROM RawRecords\n",
    "    INNER JOIN Locations ON Locations.id = RawRecords.id_location\n",
    "    WHERE id_location IN (SELECT id FROM Locations)\n",
    "    GROUP BY id_location, date(date_timestamp) \n",
    "    ORDER BY date(date_timestamp);\"\"\",\n",
    "    con=db_connection\n",
    ")\n",
    "pdata = pd.DataFrame(raw_data)\n",
    "pdata.head(1009)"
   ]
  },
  {
   "cell_type": "code",
   "execution_count": null,
   "metadata": {},
   "outputs": [],
   "source": [
    "#----------------------------------------------------------------------------------\n",
    "# Table : RawRecords\n",
    "# Query : List records created by locations and creation dates grouped 0\n",
    "#         by locations + month\n",
    "#----------------------------------------------------------------------------------\n",
    "\n",
    "raw_data = pd.read_sql(\n",
    "\"\"\" SELECT date(date_timestamp) AS dte, Locations.name AS LName, count(date_timestamp) AS nb_records\n",
    "    FROM RawRecords\n",
    "    INNER JOIN Locations ON Locations.id = RawRecords.id_location\n",
    "    WHERE MONTH(DATE(date_timestamp)) in (SELECT MONTH(DATE(date_timestamp)) FROM RawRecords GROUP BY MONTH(DATE(date_timestamp)))\n",
    "    AND ( id_location IN (SELECT id FROM Locations) ) \n",
    "    GROUP BY id_location, month(date_timestamp) \n",
    "    ORDER BY id_location, month(date_timestamp);\"\"\",\n",
    "    con=db_connection\n",
    ")\n",
    "pdata = pd.DataFrame(raw_data)\n",
    "pdata.head(100)"
   ]
  },
  {
   "cell_type": "code",
   "execution_count": null,
   "metadata": {},
   "outputs": [],
   "source": [
    "#----------------------------------------------------------------------------------\n",
    "# Table : RawRecords\n",
    "# Select MIN,MAX,AVG by locations and creation dates grouped by locations + day\n",
    "#----------------------------------------------------------------------------------\n",
    "raw_data = pd.read_sql(\n",
    "\"\"\" SELECT date(date_timestamp) AS dte, Locations.name AS LName, \n",
    "    (round(min(temp),2) - 273.15) as minTemp, (round(max(temp),2) - 273.15) as maxTemp, (round(avg(temp), 2) - 273.15) as avgTemp,\n",
    "    round(min(humidity),2) as minHumidity, round(max(humidity),2) as maxHumidity, round(avg(humidity), 2) as avgHumidity,\n",
    "    round(min(pressure),2) as minPressure, round(max(pressure),2) as maxPressure, round(avg(pressure), 2) as avgPressure,\n",
    "    round(sum(rain_1h))\n",
    "    FROM RawRecords\n",
    "    INNER JOIN Locations ON Locations.id = RawRecords.id_location\n",
    "    WHERE id_location IN (SELECT id FROM Locations)\n",
    "    GROUP BY id_location, month(date_timestamp),day(date_timestamp)\n",
    "    ORDER BY id_location, date_timestamp; \"\"\",\n",
    "    con=db_connection\n",
    ")\n",
    "pdata = pd.DataFrame(raw_data)\n",
    "pdata.head(100)"
   ]
  },
  {
   "cell_type": "code",
   "execution_count": null,
   "metadata": {},
   "outputs": [],
   "source": [
    "#----------------------------------------------------------------------------------\n",
    "# Table : RawRecords\n",
    "# Select MIN,MAX,AVG by locations and creation dates grouped by locations + month\n",
    "#----------------------------------------------------------------------------------\n",
    "raw_data = pd.read_sql(\n",
    "\"\"\" SELECT date(date_timestamp) AS dte, Locations.name AS LName, \n",
    "    (round(min(temp),2) - 273.15) as minTemp, (round(max(temp),2) - 273.15) as maxTemp, (round(avg(temp), 2) - 273.15) as avgTemp,\n",
    "    round(min(humidity),2) as minHumidity, round(max(humidity),2) as maxHumidity, round(avg(humidity), 2) as avgHumidity,\n",
    "    round(min(pressure),2) as minPressure, round(max(pressure),2) as maxPressure, round(avg(pressure), 2) as avgPressure\n",
    "    FROM RawRecords\n",
    "    INNER JOIN Locations ON Locations.id = RawRecords.id_location\n",
    "    WHERE MONTH(DATE(date_timestamp)) in (SELECT MONTH(DATE(date_timestamp)) FROM RawRecords GROUP BY MONTH(DATE(date_timestamp)))\n",
    "    AND ( id_location IN (SELECT id FROM Locations) ) \n",
    "    GROUP BY id_location, month(date_timestamp) \n",
    "    ORDER BY id_location, month(date_timestamp);\"\"\",\n",
    "    con=db_connection\n",
    ")\n",
    "pdata = pd.DataFrame(raw_data)\n",
    "pdata.head(100)\n"
   ]
  }
 ],
 "metadata": {
  "interpreter": {
   "hash": "4ce0e62306dd6a5716965d4519ada776f947e6dfc145b604b11307c10277ef29"
  },
  "kernelspec": {
   "display_name": "Python 3.9.5 64-bit",
   "language": "python",
   "name": "python3"
  },
  "language_info": {
   "codemirror_mode": {
    "name": "ipython",
    "version": 3
   },
   "file_extension": ".py",
   "mimetype": "text/x-python",
   "name": "python",
   "nbconvert_exporter": "python",
   "pygments_lexer": "ipython3",
   "version": "3.9.5"
  },
  "orig_nbformat": 4
 },
 "nbformat": 4,
 "nbformat_minor": 2
}
